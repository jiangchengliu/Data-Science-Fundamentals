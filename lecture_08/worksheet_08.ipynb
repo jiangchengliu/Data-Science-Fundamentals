{
 "cells": [
  {
   "attachments": {},
   "cell_type": "markdown",
   "metadata": {},
   "source": [
    "# Worksheet 08\n",
    "\n",
    "Name:  Jiang Cheng Liu\n",
    "UID: U77948366\n",
    "\n",
    "### Topics\n",
    "\n",
    "- Soft Clustering\n",
    "- Clustering Aggregation\n",
    "\n",
    "### Probability Review\n",
    "\n",
    "Read through [the following](https://medium.com/@gallettilance/overview-of-probability-3272b72c82c8)\n",
    "\n",
    "### Soft Clustering\n",
    "\n",
    "We generate 10 data points that come from a normal distribution with mean 5 and variance 1."
   ]
  },
  {
   "cell_type": "code",
   "execution_count": 2,
   "metadata": {},
   "outputs": [
    {
     "name": "stdout",
     "output_type": "stream",
     "text": [
      "[4.182864287713754, 4.617027945410156, 5.128398346669843, 5.051958709107593, 3.394963903637424, 7.785114471546601, 5.279828336638122, 5.001031728754889, 5.757589575190985, 5.501832613337081]\n"
     ]
    }
   ],
   "source": [
    "import random\n",
    "import numpy as np\n",
    "from sklearn.cluster import KMeans\n",
    "\n",
    "mean = 5\n",
    "stdev = 1\n",
    "\n",
    "s1 = np.random.normal(mean, stdev, 10).tolist()\n",
    "print(s1)"
   ]
  },
  {
   "cell_type": "markdown",
   "metadata": {},
   "source": [
    "a) Generate 10 more data points, this time coming from a normal distribution with mean 8 and variance 1."
   ]
  },
  {
   "cell_type": "code",
   "execution_count": 3,
   "metadata": {},
   "outputs": [
    {
     "name": "stdout",
     "output_type": "stream",
     "text": [
      "[0.43239505514046006, 0.6827213612545863, 0.3079426420109632, -0.306218576401139, 1.1228635779420781, 1.7417084475671523, -1.1029858961840522, -0.8657360721576872, -0.285341962377871, 0.7819671825179645]\n"
     ]
    }
   ],
   "source": [
    "s2 = np.random.normal(0, 1, 10).tolist()\n",
    "print(s2)"
   ]
  },
  {
   "attachments": {},
   "cell_type": "markdown",
   "metadata": {},
   "source": [
    "b) Flip a fair coin 10 times. If the coin lands on H, then pick the last data point of `s1` and remove it from `s1`, if T then pick the last data point from `s2` and remove it from `s2`. Add these 10 points to a list called `data`."
   ]
  },
  {
   "cell_type": "code",
   "execution_count": 4,
   "metadata": {},
   "outputs": [
    {
     "name": "stdout",
     "output_type": "stream",
     "text": [
      "[0.7819671825179645, 5.501832613337081, 5.757589575190985, 5.001031728754889, -0.285341962377871, 5.279828336638122, 7.785114471546601, 3.394963903637424, 5.051958709107593, -0.8657360721576872]\n"
     ]
    }
   ],
   "source": [
    "data = []\n",
    "for i in range(10):\n",
    "    # flip coin\n",
    "    coin_output = random.choice([0, 1])\n",
    "    if coin_output == 0:\n",
    "        p1 = s1.pop()\n",
    "        data.append(p1)\n",
    "    else:\n",
    "        p2 = s2.pop()\n",
    "        data.append(p2)\n",
    "print(data)"
   ]
  },
  {
   "cell_type": "markdown",
   "metadata": {},
   "source": [
    "c) This `data` is a Gaussian Mixture Distribution with 2 mixture components. Over the next few questions we will walk through the GMM algorithm to see if we can uncover the parameters we used to generate this data. First, please list all these parameters of the GMM that created `data` and the values we know they have."
   ]
  },
  {
   "cell_type": "markdown",
   "metadata": {},
   "source": [
    "The prior prob of species 1, species 2, mean and variance of species 1 and 2"
   ]
  },
  {
   "cell_type": "markdown",
   "metadata": {},
   "source": [
    "d) Let's assume there are two mixture components (note: we could plot the data and make the observation that there are two clusters). The EM algorithm asks us to start with a random `mean_j`, `variance_j`, `P(S_j)` for each component j. One method we could use to find sensible values for these is to apply K means with k=2 here.\n",
    "\n",
    "1. the centroids would be the estimates of the `mean_j`\n",
    "2. the intra-cluster variance could be the estimate of `variance_j`\n",
    "3. the proportion of points in each cluster could be the estimate of `P(S_j)`\n",
    "\n",
    "Go through this process and list the parameter estimates it gives. Are they close or far from the true values?"
   ]
  },
  {
   "cell_type": "code",
   "execution_count": 7,
   "metadata": {},
   "outputs": [
    {
     "name": "stdout",
     "output_type": "stream",
     "text": [
      "[5.501832613337081, 5.757589575190985, 5.001031728754889, 5.279828336638122, 7.785114471546601, 3.394963903637424, 5.051958709107593]\n",
      "[0.7819671825179645, -0.285341962377871, -0.8657360721576872]\n",
      "P(S_1) = 0.7,  P(S_2) = 0.3\n",
      "mean_1 = 5.396045619744671,  mean_2 = -0.12303695067253125\n",
      "var_1 = 1.4488315951373323,  var_2 = 0.46565912765712447\n"
     ]
    },
    {
     "name": "stderr",
     "output_type": "stream",
     "text": [
      "/Library/Frameworks/Python.framework/Versions/3.9/lib/python3.9/site-packages/sklearn/cluster/_kmeans.py:1416: FutureWarning: The default value of `n_init` will change from 10 to 'auto' in 1.4. Set the value of `n_init` explicitly to suppress the warning\n",
      "  super()._check_params_vs_input(X, default_n_init=10)\n"
     ]
    }
   ],
   "source": [
    "kmeans = KMeans(2, init='k-means++').fit(X=np.array(data).reshape(-1, 1))\n",
    "\n",
    "s1 = [x[0] for x in filter(lambda x: x[1] == 0, zip(data, kmeans.labels_))]\n",
    "print(s1)\n",
    "s2 = [x[0] for x in filter(lambda x: x[1] == 1, zip(data, kmeans.labels_))]\n",
    "print(s2)\n",
    "\n",
    "prob_s = [ len(s1) / (len(s1) + len(s2)) , len(s2) / (len(s1) + len(s2))]\n",
    "mean = [ sum(s1)/len(s1) , sum(s2)/len(s2) ]\n",
    "var = [ sum(map(lambda x : (x - mean[0])**2, s1)) / len(s1) , sum(map(lambda x : (x - mean[1])**2, s2)) / len(s2)]\n",
    "\n",
    "print(\"P(S_1) = \" + str(prob_s[0]) + \",  P(S_2) = \" + str(prob_s[1]))\n",
    "print(\"mean_1 = \" + str(mean[0]) + \",  mean_2 = \" + str(mean[1]))\n",
    "print(\"var_1 = \" + str(var[0]) + \",  var_2 = \" + str(var[1]))"
   ]
  },
  {
   "cell_type": "markdown",
   "metadata": {},
   "source": [
    "They are pretty close."
   ]
  },
  {
   "cell_type": "markdown",
   "metadata": {},
   "source": [
    "e) For each data point, compute `P(S_j | X_i)`. Comment on which cluster you think each point belongs to based on the estimated probabilities. How does that compare to the truth?"
   ]
  },
  {
   "cell_type": "code",
   "execution_count": 8,
   "metadata": {},
   "outputs": [
    {
     "name": "stdout",
     "output_type": "stream",
     "text": [
      "point =  0.7819671825179645\n",
      "probability of observing that point if it came from cluster 0 =  0.001727951205914327\n",
      "probability of observing that point if it came from cluster 1 =  0.12961134328866303\n",
      "point =  5.501832613337081\n",
      "probability of observing that point if it came from cluster 0 =  0.274621472975304\n",
      "probability of observing that point if it came from cluster 1 =  1.7726555552896016e-32\n",
      "point =  5.757589575190985\n",
      "probability of observing that point if it came from cluster 0 =  0.26691326913627283\n",
      "probability of observing that point if it came from cluster 1 =  2.0036543923515703e-35\n",
      "point =  5.001031728754889\n",
      "probability of observing that point if it came from cluster 0 =  0.2653082053905107\n",
      "probability of observing that point if it came from cluster 1 =  4.358816930654852e-27\n",
      "point =  -0.285341962377871\n",
      "probability of observing that point if it came from cluster 0 =  0.00012612704886288262\n",
      "probability of observing that point if it came from cluster 1 =  0.8062347474036043\n",
      "point =  5.279828336638122\n",
      "probability of observing that point if it came from cluster 0 =  0.2744700448240198\n",
      "probability of observing that point if it came from cluster 1 =  5.0155128607594575e-30\n",
      "point =  7.785114471546601\n",
      "probability of observing that point if it came from cluster 0 =  0.07070531741513834\n",
      "probability of observing that point if it came from cluster 1 =  2.0179769241719701e-63\n",
      "point =  3.394963903637424\n",
      "probability of observing that point if it came from cluster 0 =  0.10608546011449031\n",
      "probability of observing that point if it came from cluster 1 =  3.458483955763053e-13\n",
      "point =  5.051958709107593\n",
      "probability of observing that point if it came from cluster 0 =  0.26769758310049707\n",
      "probability of observing that point if it came from cluster 1 =  1.300533061506131e-27\n",
      "point =  -0.8657360721576872\n",
      "probability of observing that point if it came from cluster 0 =  2.4195745644083815e-05\n",
      "probability of observing that point if it came from cluster 1 =  0.2401343996355514\n",
      "0.7819671825179645\n",
      "Probability of coming from S_1 = 0.03016902662525368\n",
      "Probability of coming from S_2 = 0.9698309733747462\n",
      "\n",
      "5.501832613337081\n",
      "Probability of coming from S_1 = 1.0\n",
      "Probability of coming from S_2 = 2.766387913751604e-32\n",
      "\n",
      "5.757589575190985\n",
      "Probability of coming from S_1 = 1.0\n",
      "Probability of coming from S_2 = 3.21718372440718e-35\n",
      "\n",
      "5.001031728754889\n",
      "Probability of coming from S_1 = 1.0\n",
      "Probability of coming from S_2 = 7.041110530684306e-27\n",
      "\n",
      "-0.285341962377871\n",
      "Probability of coming from S_1 = 0.0003648925597788057\n",
      "Probability of coming from S_2 = 0.9996351074402212\n",
      "\n",
      "5.279828336638122\n",
      "Probability of coming from S_1 = 1.0\n",
      "Probability of coming from S_2 = 7.831475792311827e-30\n",
      "\n",
      "7.785114471546601\n",
      "Probability of coming from S_1 = 1.0\n",
      "Probability of coming from S_2 = 1.2231714457042953e-62\n",
      "\n",
      "3.394963903637424\n",
      "Probability of coming from S_1 = 0.9999999999986029\n",
      "Probability of coming from S_2 = 1.397182430100249e-12\n",
      "\n",
      "5.051958709107593\n",
      "Probability of coming from S_1 = 1.0\n",
      "Probability of coming from S_2 = 2.0820931799926336e-27\n",
      "\n",
      "-0.8657360721576872\n",
      "Probability of coming from S_1 = 0.00023504949642196585\n",
      "Probability of coming from S_2 = 0.9997649505035782\n",
      "\n"
     ]
    }
   ],
   "source": [
    "from scipy.stats import norm\n",
    "\n",
    "prob_s0_x = [] # P(S_0 | X_i)\n",
    "prob_s1_x = [] # P(S_1 | X_i)\n",
    "prob_x = [] # P(X_i)\n",
    "\n",
    "k = 2\n",
    "\n",
    "for p in data:\n",
    "    print(\"point = \", p)\n",
    "    pdf_i = []\n",
    "\n",
    "    for j in range(k):\n",
    "        # P(X_i | S_j)\n",
    "        pdf_i.append(norm.pdf(p, mean[j], var[j]))\n",
    "        print(\"probability of observing that point if it came from cluster \" + str(j) + \" = \", pdf_i[j])\n",
    "        # P(S_j) already computed\n",
    "        prob_s[j]\n",
    "\n",
    "    # P(X_i) = P(S_0)P(X_i | S_0) + P(S_1)P(X_i | S_1)\n",
    "    prob_x = prob_s[0] * pdf_i[0] + prob_s[1] * pdf_i[1]\n",
    "\n",
    "    # P(S_j | X_i) = P(X_i | S_j)P(S_j) / P(X_i)\n",
    "    prob_s0_x.append( prob_s[0] * pdf_i[0] / prob_x)\n",
    "    prob_s1_x.append( prob_s[1] * pdf_i[1] / prob_x)\n",
    "\n",
    "probs = zip(data, prob_s0_x, prob_s1_x)\n",
    "for p in probs:\n",
    "    print(p[0])\n",
    "    print(\"Probability of coming from S_1 = \" + str(p[1]))\n",
    "    print(\"Probability of coming from S_2 = \" + str(p[2]))\n",
    "    print()\n"
   ]
  },
  {
   "cell_type": "markdown",
   "metadata": {},
   "source": [
    "f) Having computed `P(S_j | X_i)`, update the estimates of `mean_j`, `var_j`, and `P(S_j)`. How different are these values from the original ones you got from K means? briefly comment."
   ]
  },
  {
   "cell_type": "code",
   "execution_count": 9,
   "metadata": {},
   "outputs": [
    {
     "name": "stdout",
     "output_type": "stream",
     "text": [
      "P(S_1) = 0.7,  P(S_2) = 0.3\n",
      "mean_1 = 5.375742409591113,  mean_2 = -0.1321535531039547\n",
      "var_1 = 1.5364190523277002,  var_2 = 0.4620327315894369\n"
     ]
    }
   ],
   "source": [
    "prob_c = [sum(prob_s0_x)/ len(prob_s0_x), sum(prob_s1_x)/ len(prob_s1_x)]\n",
    "mean = [sum([x[0] * x[1] for x in zip(prob_s0_x, data)]) / sum(prob_s0_x), sum([x[0] * x[1] for x in zip(prob_s1_x, data)]) / sum(prob_s1_x)]\n",
    "var = [sum([x[0] * (x[1]-mean[0])**2 for x in zip(prob_s0_x, data)]) / sum(prob_s0_x), sum([x[0] * (x[1]-mean[1])**2 for x in zip(prob_s1_x, data)]) / sum(prob_s1_x)]\n",
    "\n",
    "print(\"P(S_1) = \" + str(prob_s[0]) + \",  P(S_2) = \" + str(prob_s[1]))\n",
    "print(\"mean_1 = \" + str(mean[0]) + \",  mean_2 = \" + str(mean[1]))\n",
    "print(\"var_1 = \" + str(var[0]) + \",  var_2 = \" + str(var[1]))"
   ]
  },
  {
   "cell_type": "markdown",
   "metadata": {},
   "source": [
    "Its just a little different. Maybe caused by small sample????"
   ]
  },
  {
   "cell_type": "markdown",
   "metadata": {},
   "source": [
    "g) Update `P(S_j | X_i)`. Comment on any differences or lack thereof you observe."
   ]
  },
  {
   "cell_type": "code",
   "execution_count": null,
   "metadata": {},
   "outputs": [],
   "source": []
  },
  {
   "cell_type": "markdown",
   "metadata": {},
   "source": []
  },
  {
   "cell_type": "markdown",
   "metadata": {},
   "source": [
    "h) Use `P(S_j | X_i)` to create a hard assignment - label each point as belonging to a specific cluster (0 or 1)"
   ]
  },
  {
   "cell_type": "code",
   "execution_count": null,
   "metadata": {},
   "outputs": [],
   "source": []
  }
 ],
 "metadata": {
  "kernelspec": {
   "display_name": "Python 3",
   "language": "python",
   "name": "python3"
  },
  "language_info": {
   "codemirror_mode": {
    "name": "ipython",
    "version": 3
   },
   "file_extension": ".py",
   "mimetype": "text/x-python",
   "name": "python",
   "nbconvert_exporter": "python",
   "pygments_lexer": "ipython3",
   "version": "3.9.5"
  },
  "orig_nbformat": 4,
  "vscode": {
   "interpreter": {
    "hash": "e7370f93d1d0cde622a1f8e1c04877d8463912d04d973331ad4851f04de6915a"
   }
  }
 },
 "nbformat": 4,
 "nbformat_minor": 2
}
